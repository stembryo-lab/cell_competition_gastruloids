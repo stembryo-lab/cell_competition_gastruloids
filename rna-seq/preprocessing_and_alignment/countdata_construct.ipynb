{
 "cells": [
  {
   "cell_type": "markdown",
   "id": "b44fee27-08ad-4f6f-b59f-68344e2ce118",
   "metadata": {},
   "source": [
    "# **COUNT MATRIX CREATION**\n",
    "## Alignment files are concatenated into a matrix"
   ]
  },
  {
   "cell_type": "code",
   "execution_count": 1,
   "id": "40f78137-e4d5-49fc-b401-2f209e59990c",
   "metadata": {
    "tags": []
   },
   "outputs": [
    {
     "name": "stderr",
     "output_type": "stream",
     "text": [
      "Matplotlib created a temporary cache directory at /tmp/jobs/ppascual/109233/matplotlib-e6a3c3ss because the default path (/home/jovyan/.config/matplotlib) is not a writable directory; it is highly recommended to set the MPLCONFIGDIR environment variable to a writable directory, in particular to speed up the import of Matplotlib and to better support multiprocessing.\n"
     ]
    }
   ],
   "source": [
    "import os\n",
    "import numpy as np\n",
    "import pandas as pd\n",
    "import glob\n",
    "import sys\n",
    "import csv\n",
    "import matplotlib.pyplot as plt\n",
    "import seaborn as sns"
   ]
  },
  {
   "cell_type": "markdown",
   "id": "f0e658c4-a357-4322-9fdb-571034160f23",
   "metadata": {},
   "source": [
    "## Load metadata"
   ]
  },
  {
   "cell_type": "markdown",
   "id": "61a991ed-a2f0-4581-92ed-f6310ec5556f",
   "metadata": {},
   "source": [
    "## List gene counts files"
   ]
  },
  {
   "cell_type": "code",
   "execution_count": 2,
   "id": "4b9d4f58-bc93-4f68-a110-94693689d03a",
   "metadata": {
    "tags": []
   },
   "outputs": [],
   "source": [
    "path = 'star_out/counts'\n",
    "\n",
    "files = glob.glob(os.path.join(path , \"*_counts.tab\"))"
   ]
  },
  {
   "cell_type": "code",
   "execution_count": 3,
   "id": "65c9b050",
   "metadata": {
    "tags": []
   },
   "outputs": [],
   "source": [
    "sorted_files=sorted(files)"
   ]
  },
  {
   "cell_type": "code",
   "execution_count": 4,
   "id": "dd5fa1d2-ff41-4985-a9fa-edb571cb08b4",
   "metadata": {
    "tags": []
   },
   "outputs": [],
   "source": [
    "# retain only files specified in metadata\n",
    "#files=[f for f in files if f.split('/')[1] in meta['Filename_ID'].str.split('_R1').str[0].values]"
   ]
  },
  {
   "cell_type": "markdown",
   "id": "21cb0c47-3831-4050-be1e-cd684acf30b1",
   "metadata": {},
   "source": [
    "## Countmatrix: read and concatenate"
   ]
  },
  {
   "cell_type": "code",
   "execution_count": 5,
   "id": "8a3f0cc4-c8ed-4c4b-a5c8-79f4db8951fc",
   "metadata": {
    "tags": []
   },
   "outputs": [
    {
     "data": {
      "text/html": [
       "<div>\n",
       "<style scoped>\n",
       "    .dataframe tbody tr th:only-of-type {\n",
       "        vertical-align: middle;\n",
       "    }\n",
       "\n",
       "    .dataframe tbody tr th {\n",
       "        vertical-align: top;\n",
       "    }\n",
       "\n",
       "    .dataframe thead th {\n",
       "        text-align: right;\n",
       "    }\n",
       "</style>\n",
       "<table border=\"1\" class=\"dataframe\">\n",
       "  <thead>\n",
       "    <tr style=\"text-align: right;\">\n",
       "      <th></th>\n",
       "      <th>WT0002</th>\n",
       "      <th>WT0003</th>\n",
       "      <th>WT0004</th>\n",
       "      <th>F0002</th>\n",
       "      <th>F0003</th>\n",
       "      <th>F0004</th>\n",
       "      <th>K0002</th>\n",
       "      <th>K0003</th>\n",
       "      <th>K0004</th>\n",
       "      <th>KF0482</th>\n",
       "      <th>...</th>\n",
       "      <th>WW0724</th>\n",
       "      <th>WW0962</th>\n",
       "      <th>WW0963</th>\n",
       "      <th>WW0964</th>\n",
       "      <th>WW1202</th>\n",
       "      <th>WW1203</th>\n",
       "      <th>WW1204</th>\n",
       "      <th>WW1442</th>\n",
       "      <th>WW1443</th>\n",
       "      <th>WW1444</th>\n",
       "    </tr>\n",
       "    <tr>\n",
       "      <th>Gene</th>\n",
       "      <th></th>\n",
       "      <th></th>\n",
       "      <th></th>\n",
       "      <th></th>\n",
       "      <th></th>\n",
       "      <th></th>\n",
       "      <th></th>\n",
       "      <th></th>\n",
       "      <th></th>\n",
       "      <th></th>\n",
       "      <th></th>\n",
       "      <th></th>\n",
       "      <th></th>\n",
       "      <th></th>\n",
       "      <th></th>\n",
       "      <th></th>\n",
       "      <th></th>\n",
       "      <th></th>\n",
       "      <th></th>\n",
       "      <th></th>\n",
       "      <th></th>\n",
       "    </tr>\n",
       "  </thead>\n",
       "  <tbody>\n",
       "    <tr>\n",
       "      <th>4933401J01Rik</th>\n",
       "      <td>0</td>\n",
       "      <td>0</td>\n",
       "      <td>0</td>\n",
       "      <td>0</td>\n",
       "      <td>0</td>\n",
       "      <td>0</td>\n",
       "      <td>0</td>\n",
       "      <td>0</td>\n",
       "      <td>0</td>\n",
       "      <td>0</td>\n",
       "      <td>...</td>\n",
       "      <td>0</td>\n",
       "      <td>0</td>\n",
       "      <td>0</td>\n",
       "      <td>0</td>\n",
       "      <td>0</td>\n",
       "      <td>0</td>\n",
       "      <td>0</td>\n",
       "      <td>0</td>\n",
       "      <td>0</td>\n",
       "      <td>0</td>\n",
       "    </tr>\n",
       "    <tr>\n",
       "      <th>Gm26206</th>\n",
       "      <td>0</td>\n",
       "      <td>0</td>\n",
       "      <td>0</td>\n",
       "      <td>0</td>\n",
       "      <td>0</td>\n",
       "      <td>0</td>\n",
       "      <td>0</td>\n",
       "      <td>0</td>\n",
       "      <td>0</td>\n",
       "      <td>0</td>\n",
       "      <td>...</td>\n",
       "      <td>0</td>\n",
       "      <td>0</td>\n",
       "      <td>0</td>\n",
       "      <td>0</td>\n",
       "      <td>0</td>\n",
       "      <td>0</td>\n",
       "      <td>0</td>\n",
       "      <td>0</td>\n",
       "      <td>0</td>\n",
       "      <td>0</td>\n",
       "    </tr>\n",
       "    <tr>\n",
       "      <th>Xkr4</th>\n",
       "      <td>4</td>\n",
       "      <td>9</td>\n",
       "      <td>7</td>\n",
       "      <td>9</td>\n",
       "      <td>11</td>\n",
       "      <td>4</td>\n",
       "      <td>11</td>\n",
       "      <td>13</td>\n",
       "      <td>14</td>\n",
       "      <td>90</td>\n",
       "      <td>...</td>\n",
       "      <td>331</td>\n",
       "      <td>145</td>\n",
       "      <td>129</td>\n",
       "      <td>113</td>\n",
       "      <td>21</td>\n",
       "      <td>35</td>\n",
       "      <td>22</td>\n",
       "      <td>11</td>\n",
       "      <td>10</td>\n",
       "      <td>14</td>\n",
       "    </tr>\n",
       "    <tr>\n",
       "      <th>Gm18956</th>\n",
       "      <td>0</td>\n",
       "      <td>0</td>\n",
       "      <td>0</td>\n",
       "      <td>0</td>\n",
       "      <td>0</td>\n",
       "      <td>0</td>\n",
       "      <td>0</td>\n",
       "      <td>0</td>\n",
       "      <td>0</td>\n",
       "      <td>0</td>\n",
       "      <td>...</td>\n",
       "      <td>0</td>\n",
       "      <td>0</td>\n",
       "      <td>0</td>\n",
       "      <td>0</td>\n",
       "      <td>0</td>\n",
       "      <td>0</td>\n",
       "      <td>0</td>\n",
       "      <td>0</td>\n",
       "      <td>0</td>\n",
       "      <td>0</td>\n",
       "    </tr>\n",
       "    <tr>\n",
       "      <th>Gm37180</th>\n",
       "      <td>0</td>\n",
       "      <td>0</td>\n",
       "      <td>0</td>\n",
       "      <td>0</td>\n",
       "      <td>0</td>\n",
       "      <td>0</td>\n",
       "      <td>0</td>\n",
       "      <td>0</td>\n",
       "      <td>0</td>\n",
       "      <td>0</td>\n",
       "      <td>...</td>\n",
       "      <td>0</td>\n",
       "      <td>1</td>\n",
       "      <td>0</td>\n",
       "      <td>0</td>\n",
       "      <td>0</td>\n",
       "      <td>0</td>\n",
       "      <td>0</td>\n",
       "      <td>0</td>\n",
       "      <td>0</td>\n",
       "      <td>0</td>\n",
       "    </tr>\n",
       "  </tbody>\n",
       "</table>\n",
       "<p>5 rows × 69 columns</p>\n",
       "</div>"
      ],
      "text/plain": [
       "               WT0002  WT0003  WT0004  F0002  F0003  F0004  K0002  K0003  \\\n",
       "Gene                                                                       \n",
       "4933401J01Rik       0       0       0      0      0      0      0      0   \n",
       "Gm26206             0       0       0      0      0      0      0      0   \n",
       "Xkr4                4       9       7      9     11      4     11     13   \n",
       "Gm18956             0       0       0      0      0      0      0      0   \n",
       "Gm37180             0       0       0      0      0      0      0      0   \n",
       "\n",
       "               K0004  KF0482  ...  WW0724  WW0962  WW0963  WW0964  WW1202  \\\n",
       "Gene                          ...                                           \n",
       "4933401J01Rik      0       0  ...       0       0       0       0       0   \n",
       "Gm26206            0       0  ...       0       0       0       0       0   \n",
       "Xkr4              14      90  ...     331     145     129     113      21   \n",
       "Gm18956            0       0  ...       0       0       0       0       0   \n",
       "Gm37180            0       0  ...       0       1       0       0       0   \n",
       "\n",
       "               WW1203  WW1204  WW1442  WW1443  WW1444  \n",
       "Gene                                                   \n",
       "4933401J01Rik       0       0       0       0       0  \n",
       "Gm26206             0       0       0       0       0  \n",
       "Xkr4               35      22      11      10      14  \n",
       "Gm18956             0       0       0       0       0  \n",
       "Gm37180             0       0       0       0       0  \n",
       "\n",
       "[5 rows x 69 columns]"
      ]
     },
     "execution_count": 5,
     "metadata": {},
     "output_type": "execute_result"
    }
   ],
   "source": [
    "dfs = []\n",
    "samples =[]\n",
    "\n",
    "for filename in sorted_files:\n",
    "    df = pd.read_csv(filename, index_col=0, header=0, sep='\\t', skiprows=3)\n",
    "    df = df.iloc[:,0] # first column belongs to Unstranded reads (sequencing specififcation)\n",
    "    sample=filename.split('/')[-1].split('_counts')[0]\n",
    "\n",
    "    dfs.append(df)\n",
    "    samples.append(sample)\n",
    "    \n",
    "# concat dfs\n",
    "counts = pd.concat(dfs, axis=1, ignore_index=True)\n",
    "# remove genes with 0 counts accross all genes\n",
    "# counts = counts.loc[~(counts==0).all(axis=1)]\n",
    "# rename columns and index\n",
    "counts.columns = samples\n",
    "counts.index.name = 'Gene'\n",
    "counts = counts.fillna(0)\n",
    "\n",
    "# Specify the new column order\n",
    "idxs= ['WT0002', 'WT0003','WT0004'] + [col for col in counts.columns if col not in ['WT0002', 'WT0003','WT0004']]\n",
    "counts=counts[idxs]\n",
    "\n",
    "# save df\n",
    "counts.to_csv(path + '/cell_comp_bulk.csv')\n",
    "counts.head()"
   ]
  },
  {
   "cell_type": "code",
   "execution_count": 7,
   "id": "43aea516-a6c6-4516-89e6-4b44dce9a551",
   "metadata": {
    "tags": []
   },
   "outputs": [
    {
     "data": {
      "text/plain": [
       "np.int64(3695039036)"
      ]
     },
     "execution_count": 7,
     "metadata": {},
     "output_type": "execute_result"
    }
   ],
   "source": [
    "counts.sum().sum()"
   ]
  },
  {
   "cell_type": "code",
   "execution_count": 6,
   "id": "4ec42722",
   "metadata": {
    "tags": []
   },
   "outputs": [],
   "source": [
    "meta=pd.DataFrame(index=counts.columns.values)\n",
    "\n",
    "# Add the 'condition' column by removing the last character of each index\n",
    "meta['Condition'] = [idx[:-1] for idx in meta.index]\n",
    "\n",
    "meta.to_csv(path+'/metadata_cell_comp.csv')"
   ]
  },
  {
   "cell_type": "code",
   "execution_count": null,
   "id": "77028e8f",
   "metadata": {},
   "outputs": [],
   "source": []
  },
  {
   "cell_type": "code",
   "execution_count": null,
   "id": "2842b09c-d25f-4f34-8a48-b281ef83e36c",
   "metadata": {},
   "outputs": [],
   "source": []
  }
 ],
 "metadata": {
  "kernelspec": {
   "display_name": "Python 3 (ipykernel)",
   "language": "python",
   "name": "python3"
  },
  "language_info": {
   "codemirror_mode": {
    "name": "ipython",
    "version": 3
   },
   "file_extension": ".py",
   "mimetype": "text/x-python",
   "name": "python",
   "nbconvert_exporter": "python",
   "pygments_lexer": "ipython3",
   "version": "3.10.10"
  }
 },
 "nbformat": 4,
 "nbformat_minor": 5
}
