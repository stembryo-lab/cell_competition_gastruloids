{
 "cells": [
  {
   "cell_type": "markdown",
   "id": "22979e34",
   "metadata": {},
   "source": [
    "## Comparison to embryo pseudobulk\n",
    "Pseudobulk from *Pijuan et al 2019*"
   ]
  },
  {
   "cell_type": "code",
   "execution_count": 38,
   "id": "7187aaa2-59b3-4e78-a77f-2a2cb3e0a330",
   "metadata": {},
   "outputs": [],
   "source": [
    "import pandas as pd\n",
    "from sklearn.decomposition import PCA\n",
    "from sklearn.feature_selection import VarianceThreshold\n",
    "import seaborn as sns\n",
    "import matplotlib.pyplot as plt\n",
    "\n",
    "from custom_functions import *\n",
    "\n",
    "save_format = \"svg\""
   ]
  },
  {
   "cell_type": "code",
   "execution_count": 39,
   "id": "41cfc63d",
   "metadata": {},
   "outputs": [],
   "source": [
    "# select which timepoint to analyze\n",
    "time='120'\n",
    "#time='144'"
   ]
  },
  {
   "cell_type": "markdown",
   "id": "f2687d6a-d151-4524-95a6-3ee46da75f9f",
   "metadata": {},
   "source": [
    "## Load data\n"
   ]
  },
  {
   "cell_type": "code",
   "execution_count": 40,
   "id": "029d9650-a390-4881-8d9d-1be78775f635",
   "metadata": {},
   "outputs": [],
   "source": [
    "# load counts and metadata, select your path\n",
    "df_gastruloid = pd.read_csv(\"data/cell_comp_bulk.csv\",index_col=0).T\n",
    "df_gastruloid = df_gastruloid.loc[:,~df_gastruloid.columns.duplicated()].copy() #Remove potentially duplicated genes names (very few and irrelevant genes are duplicated)\n",
    "df_gastruloid_metadata = pd.read_csv(\"data/metadata_cell_comp.csv\",index_col=0)\n",
    "\n",
    "\n",
    "#Retain only samples of interest\n",
    "if time=='120':\n",
    "    #if include_epis:\n",
    "    df_gastruloid = df_gastruloid.loc[[((\"120\" in i)) for i in df_gastruloid.index.values]]\n",
    "    df_gastruloid_metadata = df_gastruloid_metadata.loc[[((\"120\" in i)) for i in df_gastruloid_metadata.index.values]]\n",
    "else:\n",
    "    df_gastruloid = df_gastruloid.loc[[((\"144\" in i)) for i in df_gastruloid.index.values]]\n",
    "    df_gastruloid_metadata = df_gastruloid_metadata.loc[[((\"144\" in i)) for i in df_gastruloid_metadata.index.values]]"
   ]
  },
  {
   "cell_type": "markdown",
   "id": "6efda2b6",
   "metadata": {},
   "source": [
    "### Load Epi SC and Epi gastruloids counts"
   ]
  },
  {
   "cell_type": "code",
   "execution_count": 41,
   "id": "49bc4b44",
   "metadata": {},
   "outputs": [],
   "source": [
    "# if TRUE, include epi gastruloids dataset\n",
    "include_epis=True"
   ]
  },
  {
   "cell_type": "code",
   "execution_count": 42,
   "id": "216d01e1",
   "metadata": {},
   "outputs": [],
   "source": [
    "if include_epis:\n",
    "    epigastruloids=pd.read_csv('data/chir_act_counts.csv',index_col=0).T\n",
    "    epigastruloids = epigastruloids.loc[[i for i in epigastruloids.index if 'Epi' in i or'120h-3μM-CHIR'],:]\n",
    "\n",
    "    episc=pd.read_csv('data/epi_counts.csv',index_col=0).T\n",
    "    episc = episc.loc[[i for i in episc.index if '400' in i],:]"
   ]
  },
  {
   "cell_type": "code",
   "execution_count": 43,
   "id": "d9f094d9",
   "metadata": {},
   "outputs": [],
   "source": [
    "if include_epis:\n",
    "    # Step 1: Identify common genes\n",
    "    common_genes = list(set(df_gastruloid.columns) & set(epigastruloids.columns) & set(episc.columns))\n",
    "\n",
    "    # Step 2: Filter the dataframes to retain only the common genes\n",
    "    df1_filtered = df_gastruloid[common_genes]\n",
    "    df2_filtered = epigastruloids[common_genes]\n",
    "    df3_filtered = episc[common_genes]\n",
    "\n",
    "    # Step 3: Concatenate the filtered dataframes along the rows (samples)\n",
    "    df_gastruloid = pd.concat([df1_filtered, df2_filtered, df3_filtered], axis=0)\n",
    "\n"
   ]
  },
  {
   "cell_type": "markdown",
   "id": "ab54a957-a3f0-4c74-82f1-1f0723b576ca",
   "metadata": {},
   "source": [
    "## Pseudobulk mouse\n",
    "\n",
    "From the generated pseudobulk mouse dataset, we keep all points except from one sample at E7.25, which had some sampling problems (refer to the original paper) and the mixed samples."
   ]
  },
  {
   "cell_type": "code",
   "execution_count": 44,
   "id": "978edd36-a146-45b5-9305-a1fc43680fa5",
   "metadata": {},
   "outputs": [],
   "source": [
    "df_embryo = pd.read_csv(\"data/pijuansala_extended_pseudobulk.csv\",index_col=0)\n",
    "df_embryo = df_embryo.loc[:,~df_embryo.columns.duplicated()].copy() #Remove potentially duplicated genes names (very few and irrelevant genes are duplicated)\n",
    "\n",
    "# #Remove samples\n",
    "df_embryo = df_embryo[df_embryo.index.values != \"S26_E7.25\"]\n",
    "df_embryo = df_embryo[df_embryo.index.values != \"Mixed gastrulation_21\"]\n",
    "df_embryo = df_embryo[df_embryo.index.values != \"Mixed gastrulation_22\"]\n",
    "df_embryo=df_embryo.iloc[:34,:]\n",
    "df_embryo.sort_index(inplace=True)\n",
    "\n",
    "df_embryo_metadata = pd.DataFrame({\"Condition\":[i[:-2] for i in df_embryo.index.values]},index=df_embryo.index.values)"
   ]
  },
  {
   "cell_type": "markdown",
   "id": "018cf062-1115-4bb5-a425-33b7e771b124",
   "metadata": {},
   "source": [
    "### Make consistent the datasets\n",
    "\n",
    "Since both datasets can come from different alignement processes, we just retain common aligned genes."
   ]
  },
  {
   "cell_type": "code",
   "execution_count": 45,
   "id": "270be7d4-7494-450f-bd85-e653462e4f04",
   "metadata": {},
   "outputs": [],
   "source": [
    "genes1 = df_gastruloid.columns.values\n",
    "genes2 = df_embryo.columns.values\n",
    "common_genes = np.intersect1d(genes1,genes2) #Get common genes\n",
    "\n",
    "df_gastruloid = df_gastruloid.loc[:,common_genes]\n",
    "df_embryo = df_embryo.loc[:,common_genes]"
   ]
  },
  {
   "cell_type": "markdown",
   "id": "775a5152-fb95-4cb8-9cea-5829a8ff25b1",
   "metadata": {},
   "source": [
    "# Analysis"
   ]
  },
  {
   "cell_type": "markdown",
   "id": "b8ec87ed-0259-47ec-bbfc-4394d10355f5",
   "metadata": {},
   "source": [
    "## Scaling\n",
    "\n",
    "We scale the data normalizing the sum of total counts and producing and scaling to log1p."
   ]
  },
  {
   "cell_type": "code",
   "execution_count": 46,
   "id": "2b8e9764-bc90-4298-bde9-8348189c0916",
   "metadata": {},
   "outputs": [],
   "source": [
    "df1 = df_gastruloid.copy()\n",
    "df1 = df1.div(df1.sum(axis=1), axis=0)*10E6\n",
    "df1 = np.log1p(df1)\n",
    "df1.fillna(0,inplace=True)\n",
    "\n",
    "df2 = df_embryo.copy()\n",
    "df2 = df2.div(df2.sum(axis=1), axis=0)*10E6\n",
    "df2 = np.log1p(df2)\n",
    "df2.fillna(0,inplace=True)"
   ]
  },
  {
   "cell_type": "markdown",
   "id": "177571ab-3b38-4af3-b7ff-c338f86cab2d",
   "metadata": {},
   "source": [
    "## Feature selection\n",
    "\n",
    "We select the most varying genes of both datasets and find the common number between both datasets. We use a simple variance threshold to choose the most varying genes.\n",
    "\n",
    "Free parameters: **threshold**"
   ]
  },
  {
   "cell_type": "code",
   "execution_count": 47,
   "id": "560adae8-4cf0-42fe-81aa-39e126cc6f75",
   "metadata": {},
   "outputs": [
    {
     "data": {
      "text/plain": [
       "5"
      ]
     },
     "execution_count": 47,
     "metadata": {},
     "output_type": "execute_result"
    }
   ],
   "source": [
    "fs = VarianceThreshold(threshold=8)\n",
    "fs.fit(df1.values)\n",
    "l1 = fs.get_feature_names_out()\n",
    "l = [int(i[1:]) for i in l1]\n",
    "\n",
    "len(l)"
   ]
  },
  {
   "cell_type": "code",
   "execution_count": 48,
   "id": "f34f41cd-16db-44e6-a9da-d34cb30cb3a3",
   "metadata": {},
   "outputs": [],
   "source": [
    "df1_fs = pd.DataFrame(fs.transform(df1.values),index=df1.index)\n",
    "df2_fs = pd.DataFrame(fs.transform(df2.values),index=df2.index)"
   ]
  },
  {
   "cell_type": "markdown",
   "id": "29e03373-5f4d-4d3c-adc1-0302667e9404",
   "metadata": {},
   "source": [
    "## Distance Matrix\n",
    "\n",
    "We show the correlation between CHIRON conditions (C is 48h control) and Pijuan-Sala, showing the progression."
   ]
  },
  {
   "cell_type": "code",
   "execution_count": 49,
   "id": "8260c8a3",
   "metadata": {},
   "outputs": [],
   "source": [
    "df1_fs=df1_fs.loc[[i for i in df1_fs.index if 'cells' not in i or 'Epi' not in i],:]"
   ]
  },
  {
   "cell_type": "code",
   "execution_count": 50,
   "id": "d4631dd5-78bd-4184-bdc3-c7d3caa8eee9",
   "metadata": {},
   "outputs": [],
   "source": [
    "d_euclidean,m_euclidean = distance_table(df1_fs,df2_fs,metric=\"euclidean\")"
   ]
  },
  {
   "cell_type": "markdown",
   "id": "3fc3b7bb-fae7-4d73-aa48-4c26632016dd",
   "metadata": {},
   "source": [
    "## Averaged distance matrix\n",
    "\n",
    "The same but averaged over conditions."
   ]
  },
  {
   "cell_type": "code",
   "execution_count": null,
   "id": "bf7e19b4-cce1-4224-b307-2d2090f24e96",
   "metadata": {},
   "outputs": [],
   "source": [
    "# Order to plot the bulk conditions\n",
    "# if time=='E8.5':\n",
    "#     order = ['0h-Epi_','KK120','KF120','WF120','WW120','120h-3μM-CHIR_']\n",
    "# else:\n",
    "#     order = ['0h-Epi_','KK144','KF144','WF144','WW144','120h-3μM-CHIR_']\n",
    "\n",
    "if time=='120':\n",
    "    order = ['KK120','KF120','WF120','WW120']\n",
    "else:\n",
    "    order = ['KK144','KF144','WF144','WW144']\n"
   ]
  },
  {
   "cell_type": "code",
   "execution_count": 52,
   "id": "46401443-d47e-448d-b02d-a6ae6e10b924",
   "metadata": {},
   "outputs": [
    {
     "data": {
      "image/png": "[encoded data removed]",
      "text/plain": [
       "<Figure size 500x1000 with 2 Axes>"
      ]
     },
     "metadata": {},
     "output_type": "display_data"
    }
   ],
   "source": [
    "fig, ax = plt.subplots(1,1,figsize=(5,10))\n",
    "d_euclidean_ = d_euclidean.groupby([i[:-1] for i in d_euclidean.index.values]).mean()\n",
    "d_euclidean_ = d_euclidean_.T.groupby([i.split(\"_\")[0] for i in d_euclidean_.columns.values]).mean().T\n",
    "sns.heatmap(d_euclidean_.loc[order,:].transpose(), cmap=\"rocket_r\", ax=ax)\n",
    "ax.set_title(\"Euclidean\");\n",
    "\n",
    "plt.savefig(f\"results/figures/cell_comp_embryo_mean_{time}.{save_format}\",bbox_inches=\"tight\",transparent=True)"
   ]
  },
  {
   "cell_type": "markdown",
   "id": "42845836",
   "metadata": {},
   "source": [
    "## Correlating with embryo time per population"
   ]
  },
  {
   "cell_type": "code",
   "execution_count": 53,
   "id": "71e11738",
   "metadata": {},
   "outputs": [],
   "source": [
    "df_gastruloid = pd.read_csv(\"data/cell_comp_bulk.csv\",index_col=0).T\n",
    "df_gastruloid = df_gastruloid.loc[:,~df_gastruloid.columns.duplicated()].copy() #Remove potentially duplicated genes names (very few and irrelevant genes are duplicated)\n",
    "df_gastruloid_metadata = pd.read_csv(\"data/metadata_cell_comp.csv\",index_col=0)\n",
    "\n",
    "epigastruloids=pd.read_csv('data/chir_act_counts.csv',index_col=0).T\n",
    "epigastruloids = epigastruloids.loc[[i for i in epigastruloids.index if 'Epi' in i or '120h-3μM-CHIR' in i],:]\n",
    "\n",
    "# Step 1: Identify common genes\n",
    "common_genes = list(set(df_gastruloid.columns) & set(epigastruloids.columns))\n",
    "\n",
    "# Step 2: Filter the dataframes to retain only the common genes\n",
    "df1_filtered = df_gastruloid[common_genes]\n",
    "df2_filtered = epigastruloids[common_genes]\n",
    "\n",
    "# Step 3: Concatenate the filtered dataframes along the rows (samples)\n",
    "df_gastruloid = pd.concat([df1_filtered, df2_filtered], axis=0)"
   ]
  },
  {
   "cell_type": "markdown",
   "id": "264c6292",
   "metadata": {},
   "source": [
    "## Consistent datasets"
   ]
  },
  {
   "cell_type": "code",
   "execution_count": 54,
   "id": "a5e1e41b",
   "metadata": {},
   "outputs": [],
   "source": [
    "genes1 = df_gastruloid.columns.values\n",
    "genes2 = df_embryo.columns.values\n",
    "common_genes = np.intersect1d(genes1,genes2) #Get common genes\n",
    "\n",
    "df_gastruloid = df_gastruloid.loc[:,common_genes]\n",
    "df_embryo = df_embryo.loc[:,common_genes]"
   ]
  },
  {
   "cell_type": "markdown",
   "id": "7f70642a",
   "metadata": {},
   "source": [
    "## Analysis"
   ]
  },
  {
   "cell_type": "code",
   "execution_count": 55,
   "id": "bc13df54",
   "metadata": {},
   "outputs": [],
   "source": [
    "df1 = df_gastruloid.copy()\n",
    "df1 = df1.div(df1.sum(axis=1), axis=0)*10E6\n",
    "df1 = np.log1p(df1)\n",
    "df1.fillna(0,inplace=True)\n",
    "\n",
    "df2 = df_embryo.copy()\n",
    "df2 = df2.div(df2.sum(axis=1), axis=0)*10E6\n",
    "df2 = np.log1p(df2)\n",
    "df2.fillna(0,inplace=True)"
   ]
  },
  {
   "cell_type": "code",
   "execution_count": 56,
   "id": "fdab3d4c",
   "metadata": {},
   "outputs": [
    {
     "data": {
      "text/plain": [
       "928"
      ]
     },
     "execution_count": 56,
     "metadata": {},
     "output_type": "execute_result"
    }
   ],
   "source": [
    "fs = VarianceThreshold(threshold=1)\n",
    "fs.fit(df1.values)\n",
    "l1 = fs.get_feature_names_out()\n",
    "l = [int(i[1:]) for i in l1]\n",
    "\n",
    "len(l)"
   ]
  },
  {
   "cell_type": "code",
   "execution_count": 57,
   "id": "c6e9c33c",
   "metadata": {},
   "outputs": [],
   "source": [
    "df1_fs = pd.DataFrame(fs.transform(df1.values),index=df1.index)\n",
    "df2_fs = pd.DataFrame(fs.transform(df2.values),index=df2.index)"
   ]
  },
  {
   "cell_type": "markdown",
   "id": "a0650b09",
   "metadata": {},
   "source": [
    "## PCA"
   ]
  },
  {
   "cell_type": "code",
   "execution_count": 58,
   "id": "8b52ec48",
   "metadata": {},
   "outputs": [
    {
     "data": {
      "image/png": "[encoded data removed]",
      "text/plain": [
       "<Figure size 640x480 with 1 Axes>"
      ]
     },
     "metadata": {},
     "output_type": "display_data"
    }
   ],
   "source": [
    "df1_fs = pd.DataFrame(fs.transform(df1.values),index=df1.index,columns=df1.columns.values[l])\n",
    "pca = PCA(n_components=10)\n",
    "pca.fit(df1_fs.values)\n",
    "\n",
    "sns.lineplot(x=np.arange(0,pca.n_components),y=pca.explained_variance_ratio_)\n",
    "sns.scatterplot(x=np.arange(0,pca.n_components),y=pca.explained_variance_ratio_)\n",
    "\n",
    "# save plot\n",
    "plt.savefig(f'results/figures/explained_variance_by_pca_epis.{save_format}')"
   ]
  },
  {
   "cell_type": "code",
   "execution_count": 59,
   "id": "1dd8bdc3",
   "metadata": {},
   "outputs": [],
   "source": [
    "names = df1.columns.values[[int(i[1:]) for i in fs.get_feature_names_out()]] # get gene names for most variant\n",
    "df1_fs = pd.DataFrame(fs.transform(df1.values),index=df1.index,columns=names)\n",
    "pca = PCA(n_components=min(df1.shape[0]-1,10))\n",
    "pca.fit(fs.transform(df1.values));\n",
    "\n",
    "# pca transform\n",
    "x = pca.transform(fs.transform(df1.values))"
   ]
  },
  {
   "cell_type": "code",
   "execution_count": 60,
   "id": "fb244d39",
   "metadata": {},
   "outputs": [
    {
     "data": {
      "text/plain": [
       "Text(0, 0.5, 'PC2: 24% variance')"
      ]
     },
     "execution_count": 60,
     "metadata": {},
     "output_type": "execute_result"
    },
    {
     "data": {
      "image/png": "[encoded data removed]",
      "text/plain": [
       "<Figure size 1000x800 with 1 Axes>"
      ]
     },
     "metadata": {},
     "output_type": "display_data"
    }
   ],
   "source": [
    "fig,ax=plt.subplots(1,figsize=(10,8))\n",
    "sns.scatterplot(x=x[:,0], y=x[:,1], s=150, edgecolor='black',hue=[b[:2] for b in df1.index], palette='Set2', style=[b[-1] for b in df1.index])\n",
    "#sns.scatterplot(x=x[:,0], y=x[:,1], s=150, edgecolor='black',hue=meta['Time'], ax=ax[1], palette='Set2', style=[b[-1] for b in df_.index])\n",
    "\n",
    "# axes\n",
    "ax.set_xlabel(f'PC1: {int(np.round(pca.explained_variance_ratio_[0]*100,decimals=0))}% variance', fontsize=15)\n",
    "ax.set_ylabel(f'PC2: {int(np.round(pca.explained_variance_ratio_[1]*100,decimals=0))}% variance', fontsize=15)\n",
    "\n",
    "# ax[1].set_xlabel(f'PC1: {int(np.round(pca.explained_variance_ratio_[0]*100,decimals=0))}% variance', fontsize=15)\n",
    "# ax[1].set_ylabel(f'PC2: {int(np.round(pca.explained_variance_ratio_[1]*100,decimals=0))}% variance', fontsize=15)\n",
    "\n",
    "\n",
    "#plt.savefig(f\"results/figures/pca_scatterplot_clone_time_epis.{save_format}\",bbox_inches=\"tight\",transparent=True)"
   ]
  },
  {
   "cell_type": "markdown",
   "id": "b3e05cb9",
   "metadata": {},
   "source": [
    "### Distance matrix"
   ]
  },
  {
   "cell_type": "code",
   "execution_count": 61,
   "id": "6cc26ea3",
   "metadata": {},
   "outputs": [],
   "source": [
    "df1_fs = pd.DataFrame(fs.transform(df1.values),index=df1.index)\n",
    "df2_fs = pd.DataFrame(fs.transform(df2.values),index=df2.index)"
   ]
  },
  {
   "cell_type": "code",
   "execution_count": 62,
   "id": "621838a9",
   "metadata": {},
   "outputs": [],
   "source": [
    "populations = ['WW','WF','KF','KK']\n",
    "\n",
    "for p in populations:\n",
    "    df1_fs_ = df1_fs.loc[[i for i in df1_fs.index if p in i],:]\n",
    "    df1_fs_ = df1_fs.loc[[i for i in df1_fs.index if p in i or 'Epi'],:]\n",
    "    d_euclidean,m_euclidean = distance_table(df1_fs_,df2_fs,metric=\"euclidean\")\n",
    "\n",
    "    order = [f'{p}000', f'{p}048', f'{p}072', f'{p}096', f'{p}120']\n",
    "    order = [\n",
    "        '0h-Epi_', f'{p}000', f'{p}048', f'{p}072', f'{p}096', f'{p}120', f'{p}144'\n",
    "    ]\n",
    "\n",
    "    fig, ax = plt.subplots(1,1,figsize=(5,10))\n",
    "    d_euclidean_ = d_euclidean.groupby([i[:-1] for i in d_euclidean.index.values]).mean()\n",
    "    d_euclidean_ = d_euclidean_.T.groupby([i.split(\"_\")[0] for i in d_euclidean_.columns.values]).mean().T\n",
    "    d_euclidean_ = d_euclidean_.loc[order,:]\n",
    "    sns.heatmap(d_euclidean_.transpose(), cmap=\"rocket_r\", ax=ax)\n",
    "    ax.set_title(f\"Heatmap for {p}\")\n",
    "    plt.tight_layout()\n",
    "    plt.savefig(f\"results/figures/embryo_correlation_{p}_epis.{save_format}\",bbox_inches=\"tight\",transparent=True)\n",
    "    plt.close()\n"
   ]
  },
  {
   "cell_type": "code",
   "execution_count": 63,
   "id": "ecb3c0c2",
   "metadata": {},
   "outputs": [],
   "source": [
    "d_euclidean,m_euclidean = distance_table(df1_fs,df2_fs,metric=\"euclidean\")"
   ]
  },
  {
   "cell_type": "markdown",
   "id": "06da5b9b",
   "metadata": {},
   "source": [
    "## Pseudobulk sections"
   ]
  },
  {
   "cell_type": "code",
   "execution_count": 64,
   "id": "0e1966ce",
   "metadata": {},
   "outputs": [
    {
     "data": {
      "text/html": [
       "<div>\n",
       "<style scoped>\n",
       "    .dataframe tbody tr th:only-of-type {\n",
       "        vertical-align: middle;\n",
       "    }\n",
       "\n",
       "    .dataframe tbody tr th {\n",
       "        vertical-align: top;\n",
       "    }\n",
       "\n",
       "    .dataframe thead th {\n",
       "        text-align: right;\n",
       "    }\n",
       "</style>\n",
       "<table border=\"1\" class=\"dataframe\">\n",
       "  <thead>\n",
       "    <tr style=\"text-align: right;\">\n",
       "      <th></th>\n",
       "      <th>Stage</th>\n",
       "      <th>Xkr4</th>\n",
       "      <th>Gm1992</th>\n",
       "      <th>Gm37381</th>\n",
       "      <th>Rp1</th>\n",
       "      <th>Sox17</th>\n",
       "      <th>Gm37323</th>\n",
       "      <th>Mrpl15</th>\n",
       "      <th>Lypla1</th>\n",
       "      <th>Gm37988</th>\n",
       "      <th>...</th>\n",
       "      <th>AC125149.1</th>\n",
       "      <th>AC125149.2</th>\n",
       "      <th>AC125149.4</th>\n",
       "      <th>AC234645.1</th>\n",
       "      <th>AC168977.2</th>\n",
       "      <th>AC168977.1</th>\n",
       "      <th>PISD</th>\n",
       "      <th>DHRSX</th>\n",
       "      <th>Vmn2r122</th>\n",
       "      <th>CAAA01147332.1</th>\n",
       "    </tr>\n",
       "    <tr>\n",
       "      <th>Anatomy</th>\n",
       "      <th></th>\n",
       "      <th></th>\n",
       "      <th></th>\n",
       "      <th></th>\n",
       "      <th></th>\n",
       "      <th></th>\n",
       "      <th></th>\n",
       "      <th></th>\n",
       "      <th></th>\n",
       "      <th></th>\n",
       "      <th></th>\n",
       "      <th></th>\n",
       "      <th></th>\n",
       "      <th></th>\n",
       "      <th></th>\n",
       "      <th></th>\n",
       "      <th></th>\n",
       "      <th></th>\n",
       "      <th></th>\n",
       "      <th></th>\n",
       "      <th></th>\n",
       "    </tr>\n",
       "  </thead>\n",
       "  <tbody>\n",
       "    <tr>\n",
       "      <th>Anterior section</th>\n",
       "      <td>E8.75</td>\n",
       "      <td>31.0</td>\n",
       "      <td>1.0</td>\n",
       "      <td>0.0</td>\n",
       "      <td>9.0</td>\n",
       "      <td>547.0</td>\n",
       "      <td>0.0</td>\n",
       "      <td>19127.0</td>\n",
       "      <td>3090.0</td>\n",
       "      <td>11.0</td>\n",
       "      <td>...</td>\n",
       "      <td>0.0</td>\n",
       "      <td>0.0</td>\n",
       "      <td>0.0</td>\n",
       "      <td>0.0</td>\n",
       "      <td>0.0</td>\n",
       "      <td>3.0</td>\n",
       "      <td>1195.0</td>\n",
       "      <td>2395.0</td>\n",
       "      <td>0.0</td>\n",
       "      <td>63.0</td>\n",
       "    </tr>\n",
       "    <tr>\n",
       "      <th>Medial section</th>\n",
       "      <td>E8.75</td>\n",
       "      <td>16.0</td>\n",
       "      <td>1.0</td>\n",
       "      <td>0.0</td>\n",
       "      <td>11.0</td>\n",
       "      <td>806.0</td>\n",
       "      <td>3.0</td>\n",
       "      <td>19859.0</td>\n",
       "      <td>3352.0</td>\n",
       "      <td>13.0</td>\n",
       "      <td>...</td>\n",
       "      <td>0.0</td>\n",
       "      <td>0.0</td>\n",
       "      <td>0.0</td>\n",
       "      <td>0.0</td>\n",
       "      <td>0.0</td>\n",
       "      <td>3.0</td>\n",
       "      <td>1636.0</td>\n",
       "      <td>2909.0</td>\n",
       "      <td>0.0</td>\n",
       "      <td>91.0</td>\n",
       "    </tr>\n",
       "    <tr>\n",
       "      <th>Posterior section</th>\n",
       "      <td>E8.75</td>\n",
       "      <td>4.0</td>\n",
       "      <td>0.0</td>\n",
       "      <td>0.0</td>\n",
       "      <td>0.0</td>\n",
       "      <td>494.0</td>\n",
       "      <td>0.0</td>\n",
       "      <td>9508.0</td>\n",
       "      <td>1350.0</td>\n",
       "      <td>4.0</td>\n",
       "      <td>...</td>\n",
       "      <td>0.0</td>\n",
       "      <td>0.0</td>\n",
       "      <td>0.0</td>\n",
       "      <td>0.0</td>\n",
       "      <td>0.0</td>\n",
       "      <td>3.0</td>\n",
       "      <td>745.0</td>\n",
       "      <td>1456.0</td>\n",
       "      <td>0.0</td>\n",
       "      <td>46.0</td>\n",
       "    </tr>\n",
       "  </tbody>\n",
       "</table>\n",
       "<p>3 rows × 27670 columns</p>\n",
       "</div>"
      ],
      "text/plain": [
       "                   Stage  Xkr4  Gm1992  Gm37381   Rp1  Sox17  Gm37323  \\\n",
       "Anatomy                                                                 \n",
       "Anterior section   E8.75  31.0     1.0      0.0   9.0  547.0      0.0   \n",
       "Medial section     E8.75  16.0     1.0      0.0  11.0  806.0      3.0   \n",
       "Posterior section  E8.75   4.0     0.0      0.0   0.0  494.0      0.0   \n",
       "\n",
       "                    Mrpl15  Lypla1  Gm37988  ...  AC125149.1  AC125149.2  \\\n",
       "Anatomy                                      ...                           \n",
       "Anterior section   19127.0  3090.0     11.0  ...         0.0         0.0   \n",
       "Medial section     19859.0  3352.0     13.0  ...         0.0         0.0   \n",
       "Posterior section   9508.0  1350.0      4.0  ...         0.0         0.0   \n",
       "\n",
       "                   AC125149.4  AC234645.1  AC168977.2  AC168977.1    PISD  \\\n",
       "Anatomy                                                                     \n",
       "Anterior section          0.0         0.0         0.0         3.0  1195.0   \n",
       "Medial section            0.0         0.0         0.0         3.0  1636.0   \n",
       "Posterior section         0.0         0.0         0.0         3.0   745.0   \n",
       "\n",
       "                    DHRSX  Vmn2r122  CAAA01147332.1  \n",
       "Anatomy                                              \n",
       "Anterior section   2395.0       0.0            63.0  \n",
       "Medial section     2909.0       0.0            91.0  \n",
       "Posterior section  1456.0       0.0            46.0  \n",
       "\n",
       "[3 rows x 27670 columns]"
      ]
     },
     "execution_count": 64,
     "metadata": {},
     "output_type": "execute_result"
    }
   ],
   "source": [
    "df_embryo = pd.read_csv(\"data/pseudobulk_sections.csv\", index_col=0)\n",
    "df_embryo = df_embryo.loc[:,~df_embryo.columns.duplicated()].copy() #Remove potentially duplicated genes names (very few and irrelevant genes are duplicated)\n",
    "\n",
    "# select timepoint\n",
    "time='E8.75'\n",
    "df_embryo=df_embryo[df_embryo.Stage.isin([time])]\n",
    "df_embryo"
   ]
  },
  {
   "cell_type": "code",
   "execution_count": 65,
   "id": "85a40b8e",
   "metadata": {},
   "outputs": [],
   "source": [
    "# consistent datasets\n",
    "genes1 = df_gastruloid.columns.values\n",
    "genes2 = df_embryo.columns.values\n",
    "common_genes = np.intersect1d(genes1,genes2) #Get common genes\n",
    "\n",
    "df_gastruloid = df_gastruloid.loc[:,common_genes]\n",
    "df_embryo = df_embryo.loc[:,common_genes]"
   ]
  },
  {
   "cell_type": "markdown",
   "id": "f9f55e19",
   "metadata": {},
   "source": [
    "### Scaling "
   ]
  },
  {
   "cell_type": "code",
   "execution_count": 66,
   "id": "671b1b1f",
   "metadata": {},
   "outputs": [],
   "source": [
    "df1 = df_gastruloid.copy()\n",
    "df1 = df1.div(df1.sum(axis=1), axis=0)*10E6\n",
    "df1 = np.log1p(df1)\n",
    "df1.fillna(0,inplace=True)\n",
    "\n",
    "df2 = df_embryo.copy()\n",
    "df2 = df2.div(df2.sum(axis=1), axis=0)*10E6\n",
    "df2 = np.log1p(df2)\n",
    "df2.fillna(0,inplace=True)"
   ]
  },
  {
   "cell_type": "markdown",
   "id": "571008e7",
   "metadata": {},
   "source": [
    "### Feature selection"
   ]
  },
  {
   "cell_type": "code",
   "execution_count": 67,
   "id": "d9e26aac",
   "metadata": {},
   "outputs": [
    {
     "data": {
      "text/plain": [
       "928"
      ]
     },
     "execution_count": 67,
     "metadata": {},
     "output_type": "execute_result"
    }
   ],
   "source": [
    "fs = VarianceThreshold(threshold=1)\n",
    "fs.fit(df1.values)\n",
    "l1 = fs.get_feature_names_out()\n",
    "l = [int(i[1:]) for i in l1]\n",
    "\n",
    "len(l)"
   ]
  },
  {
   "cell_type": "code",
   "execution_count": 68,
   "id": "b8bbe7aa",
   "metadata": {},
   "outputs": [],
   "source": [
    "df1_fs = pd.DataFrame(fs.transform(df1.values),index=df1.index)\n",
    "df2_fs = pd.DataFrame(fs.transform(df2.values),index=df2.index)"
   ]
  },
  {
   "cell_type": "markdown",
   "id": "deabeb15",
   "metadata": {},
   "source": [
    "## Distance matrix"
   ]
  },
  {
   "cell_type": "code",
   "execution_count": 69,
   "id": "2cc11b5b",
   "metadata": {},
   "outputs": [],
   "source": [
    "d_euclidean,m_euclidean = distance_table(df1_fs,df2_fs,metric=\"euclidean\")"
   ]
  },
  {
   "cell_type": "markdown",
   "id": "d44357a6",
   "metadata": {},
   "source": [
    "## Mean distance matrix"
   ]
  },
  {
   "cell_type": "code",
   "execution_count": null,
   "id": "478e2295",
   "metadata": {},
   "outputs": [],
   "source": [
    "# if time=='E8.5':\n",
    "#     order = ['0h-Epi_','KK120','KF120','WF120','WW120','120h-3μM-CHIR_']\n",
    "# else:\n",
    "#     order = ['0h-Epi_','KK144','KF144','WF144','WW144','120h-3μM-CHIR_']\n",
    "\n",
    "if time=='E8.5':\n",
    "    order = ['0h-Epi_','KK120','KF120','WF120','WW120']\n",
    "else:\n",
    "    order = ['0h-Epi_','KK144','KF144','WF144','WW144']\n"
   ]
  },
  {
   "cell_type": "code",
   "execution_count": 71,
   "id": "f1cc873c",
   "metadata": {},
   "outputs": [
    {
     "data": {
      "image/png": "[encoded data removed]",
      "text/plain": [
       "<Figure size 500x1000 with 2 Axes>"
      ]
     },
     "metadata": {},
     "output_type": "display_data"
    }
   ],
   "source": [
    "fig, ax = plt.subplots(1,1,figsize=(5,10))\n",
    "d_euclidean_ = d_euclidean.groupby([i[:-1] for i in d_euclidean.index.values]).mean()\n",
    "d_euclidean_ = d_euclidean_.T.groupby([d_euclidean_.columns.values]).mean().T\n",
    "d_euclidean_=d_euclidean_.loc[[i for i in d_euclidean_.index if 'cells' not in i],:]\n",
    "sns.heatmap(d_euclidean_.loc[order,:].transpose(), cmap=\"rocket_r\", ax=ax)\n",
    "ax.set_title(\"Euclidean\");\n",
    "\n",
    "plt.savefig(f\"results/figures/chir_conditions_analysis_heatmap_sections_{time}.{save_format}\",bbox_inches=\"tight\",transparent=True)"
   ]
  },
  {
   "cell_type": "code",
   "execution_count": null,
   "id": "0570692f",
   "metadata": {},
   "outputs": [],
   "source": []
  }
 ],
 "metadata": {
  "kernelspec": {
   "display_name": "base",
   "language": "python",
   "name": "python3"
  },
  "language_info": {
   "codemirror_mode": {
    "name": "ipython",
    "version": 3
   },
   "file_extension": ".py",
   "mimetype": "text/x-python",
   "name": "python",
   "nbconvert_exporter": "python",
   "pygments_lexer": "ipython3",
   "version": "3.12.2"
  }
 },
 "nbformat": 4,
 "nbformat_minor": 5
}
